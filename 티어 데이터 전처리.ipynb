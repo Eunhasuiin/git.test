{
 "cells": [
  {
   "cell_type": "code",
   "execution_count": 2,
   "id": "5b8a1ae4",
   "metadata": {},
   "outputs": [],
   "source": [
    "#basical_method\n",
    "import requests,json\n",
    "import pandas as pd\n",
    "from urllib import parse"
   ]
  },
  {
   "cell_type": "code",
   "execution_count": 187,
   "id": "8402845c",
   "metadata": {},
   "outputs": [],
   "source": [
    "#request_data for C,GM,M\n",
    "api_key=\"api_key\" # we should need api key for access Riot_api\n",
    "URL=\"https://kr.api.riotgames.com/tft/league/v1/master\"\n",
    "res = requests.get(URL, headers={\"X-Riot-Token\": api_key})\n",
    "res1=json.loads(res.text)\n",
    "print(res)"
   ]
  },
  {
   "cell_type": "code",
   "execution_count": 189,
   "id": "28df77b0",
   "metadata": {},
   "outputs": [],
   "source": [
    "#get_tier and name \n",
    "if res1['tier']==\"CHALLENGER\":  tier=\"C_I\"\n",
    "elif res1['tier']==\"GRANDMASTER\": tier=\"GM_I\"\n",
    "else: tier=\"M_I\"\n",
    "tier\n",
    "sample=res1[\"entries\"]\n",
    "sample\n",
    "names=[]\n",
    "rank=[tier for i in range(0,40) ]\n",
    "for name in sample:\n",
    "    names.append(name[\"summonerName\"])"
   ]
  },
  {
   "cell_type": "code",
   "execution_count": 191,
   "id": "3bd45c11",
   "metadata": {},
   "outputs": [],
   "source": [
    "#get Level\n",
    "URL=\"https://kr.api.riotgames.com/tft/summoner/v1/summoners/by-name/\"\n",
    "Level=[]\n",
    "Name=[]\n",
    "for name in names[0:40]:\n",
    "    #print(name)\n",
    "    name_tmp=parse.quote(name)\n",
    "    URL_name=URL+name_tmp\n",
    "    res = requests.get(URL_name, headers={\"X-Riot-Token\": api_key})\n",
    "    if res.status_code == 200:\n",
    "        res1=json.loads(res.text)\n",
    "        Level.append(res1[\"summonerLevel\"])\n",
    "        Name.append(name)"
   ]
  },
  {
   "cell_type": "code",
   "execution_count": 193,
   "id": "4d77fc31",
   "metadata": {},
   "outputs": [],
   "source": [
    "#save method\n",
    "dic={'name':Name,'level':Level,'tier':tier}\n",
    "df=pd.DataFrame(dic)\n",
    "df.to_csv(\"./data/Master.csv\",index=False)"
   ]
  },
  {
   "cell_type": "code",
   "execution_count": 203,
   "id": "3593f3d5",
   "metadata": {},
   "outputs": [
    {
     "name": "stdout",
     "output_type": "stream",
     "text": [
      "<Response [200]>\n",
      "<Response [200]>\n",
      "<Response [200]>\n",
      "<Response [200]>\n"
     ]
    }
   ],
   "source": [
    "#request_data for D,P,G,S,B,I 한번에 받아올 수 있는 데이터 수의 제한으로 직접 수작업으로 티어별로 나누어 가져왔음\n",
    "names=[];Tier=[];Level=[];Name=[]\n",
    "\n",
    "for idx in ['I',\"II\",\"III\",\"IV\"]:\n",
    "    URL=\"https://kr.api.riotgames.com/tft/league/v1/entries/DIAMOND/\"+idx+\"?page=1\"\n",
    "    \n",
    "    res = requests.get(URL, headers={\"X-Riot-Token\": api_key})\n",
    "    res1=json.loads(res.text)\n",
    "    print(res)\n",
    "    \n",
    "    for idx in range(0,10):\n",
    "        names.append(res1[idx][\"summonerName\"])\n",
    "        Tier.append(res1[idx][\"tier\"][0]+'_'+res1[idx][\"rank\"])\n",
    "        \n",
    "        \n",
    "URL=\"https://kr.api.riotgames.com/tft/summoner/v1/summoners/by-name/\"\n",
    "for name in names:\n",
    "    #print(name,end=\"-\")\n",
    "    name_tmp=parse.quote(name)\n",
    "    URL_name=URL+name_tmp\n",
    "    res = requests.get(URL_name, headers={\"X-Riot-Token\": api_key})\n",
    "    res1=json.loads(res.text)\n",
    "    if res.status_code == 200:\n",
    "        Level.append(res1[\"summonerLevel\"])\n",
    "        Name.append(name)\n",
    "        #print(Name[-1])"
   ]
  },
  {
   "cell_type": "code",
   "execution_count": 204,
   "id": "ec2da024",
   "metadata": {},
   "outputs": [
    {
     "name": "stdout",
     "output_type": "stream",
     "text": [
      "['배킨치', '언더덕씨', '안경발너구리', '밍니저', 'Black Anger', '롤체고수가될사나이', '디스필드', '떡구밍', '징원주', '최치환', '동동동진', '아이디마케팅', 'TFT 텐', '킁 찌', 'DDEU E', '아 내 낭만아', '엠 돈', '한참빠른', '맛있는롱스', '불타는푸우', '자자자자자자자자크크크크크크크크', '아침8시02분만되면스댕이울려', '안녕수야 fen', 'lightskins', '규한93', '폭파광침착맨', '타지마할겐지스강', 'woogie1', '꿀자몽차', 'ykoh', '꿀주먹 바이', 'love slck', 'WWWWWWWWMMWWMWMW', '백핑무시하는사람', '포로로 잡혀온 포로', '몬 터', '물리치료 조무사', '체스는손으로', 'walnutpeanut', '너도한입할래']\n",
      "40\n",
      "40\n",
      "True\n",
      "True\n",
      "True\n",
      "True\n",
      "True\n",
      "True\n",
      "True\n",
      "True\n",
      "True\n",
      "True\n",
      "True\n",
      "True\n",
      "True\n",
      "True\n",
      "True\n",
      "True\n",
      "True\n",
      "True\n",
      "True\n",
      "True\n",
      "True\n",
      "True\n",
      "True\n",
      "True\n",
      "True\n",
      "True\n",
      "True\n",
      "True\n",
      "True\n",
      "True\n",
      "True\n",
      "True\n",
      "True\n",
      "True\n",
      "True\n",
      "True\n",
      "True\n",
      "True\n",
      "True\n",
      "True\n"
     ]
    }
   ],
   "source": [
    "#validation\n",
    "print(names)\n",
    "print(len(Name))\n",
    "print(len(Tier))\n",
    "for i in range(0,40):\n",
    "    if Name[i]==names[i]: print(True)\n",
    "    else: print(False)"
   ]
  },
  {
   "cell_type": "code",
   "execution_count": 205,
   "id": "aafaf04b",
   "metadata": {},
   "outputs": [],
   "source": [
    "#save method\n",
    "dic={'name':Name,'level':Level,'tier':Tier}\n",
    "df=pd.DataFrame(dic)\n",
    "df.to_csv(\"./data/Diamond.csv\",index=False)"
   ]
  },
  {
   "cell_type": "code",
   "execution_count": 3,
   "id": "bebc4e87",
   "metadata": {},
   "outputs": [],
   "source": [
    "#Reorder_data \n",
    "df=pd.read_csv('./data/Iron.csv')\n",
    "idx=[\"Bronze\",\"Silver\",\"Gold\",\"Platinum\",\"Diamond\",\"Master\",\"Grandmaster\",\"Challenger\"]\n",
    "for i in idx:\n",
    "    input1=pd.read_csv('./data/'+i+'.csv')\n",
    "    df=pd.concat([df,input1])\n",
    "Tier=[]\n",
    "for i in df[\"tier\"]: #Tier앞 숫자는 순서 배열을 위함\n",
    "    if i==\"I\": Tier.append(\"1_Iron\")\n",
    "    elif i==\"B\": Tier.append(\"2_Bronze\")\n",
    "    elif i==\"S\": Tier.append(\"3_Silver\")\n",
    "    elif i==\"G\": Tier.append(\"4_Gold\")\n",
    "    elif i==\"P\": Tier.append(\"5_Platinum\")\n",
    "    elif i==\"D\": Tier.append(\"6_Diamond\")\n",
    "    elif i==\"M\": Tier.append(\"7_Master\")\n",
    "    elif i==\"GM\": Tier.append(\"8_Grandmaster\")\n",
    "    else: Tier.append(\"9_Challenger\")\n",
    "\n",
    "dic={'name':df['name'],'level':df['level'],'tier':Tier}\n",
    "df=pd.DataFrame(dic)\n",
    "df.to_csv(\"./data/input.csv\",index=False,header=False)"
   ]
  }
 ],
 "metadata": {
  "kernelspec": {
   "display_name": "Python 3",
   "language": "python",
   "name": "python3"
  },
  "language_info": {
   "codemirror_mode": {
    "name": "ipython",
    "version": 3
   },
   "file_extension": ".py",
   "mimetype": "text/x-python",
   "name": "python",
   "nbconvert_exporter": "python",
   "pygments_lexer": "ipython3",
   "version": "3.6.9"
  }
 },
 "nbformat": 4,
 "nbformat_minor": 5
}
